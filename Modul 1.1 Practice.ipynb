{
  "nbformat": 4,
  "nbformat_minor": 0,
  "metadata": {
    "colab": {
      "provenance": []
    },
    "kernelspec": {
      "name": "python3",
      "display_name": "Python 3"
    },
    "language_info": {
      "name": "python"
    }
  },
  "cells": [
    {
      "cell_type": "code",
      "execution_count": 22,
      "metadata": {
        "id": "SvsvJ5TmXixf"
      },
      "outputs": [],
      "source": [
        "from collections import Counter #library untuk menghitung modus\n",
        "import matplotlib.pyplot as plt #library untuk menggambar grafik\n"
      ]
    },
    {
      "cell_type": "markdown",
      "source": [
        "Soal Pertama"
      ],
      "metadata": {
        "id": "s9AIkn2IfWcs"
      }
    },
    {
      "cell_type": "code",
      "source": [
        "data= [100.5, 99.7,101, 101.3, 99.9, 98.9, 165, 102.2, 98.7, 102.9, 100 ]\n",
        "print(f\"Data: {data}\")\n",
        "\n",
        "# Jumlah nilai dalam dataset\n",
        "jumlah_nilai = sum(data)\n",
        "print(f\"Jumlah semua nilai: {jumlah_nilai}\")\n",
        "\n",
        "# Jumlah total data dalam dataset\n",
        "jumlah_total_data = len(data)\n",
        "print(f\"Jumlah total data: {jumlah_total_data}\")\n",
        "\n",
        "# Jumlah semua nilai dalam dataset\n",
        "mean_value = jumlah_nilai / jumlah_total_data\n",
        "print(f\"Mean: {mean_value}\")\n"
      ],
      "metadata": {
        "colab": {
          "base_uri": "https://localhost:8080/"
        },
        "id": "PYlIG6ItZFc6",
        "outputId": "1d452f02-f9c3-40a2-c88f-5695c55863d7"
      },
      "execution_count": 23,
      "outputs": [
        {
          "output_type": "stream",
          "name": "stdout",
          "text": [
            "Data: [100.5, 99.7, 101, 101.3, 99.9, 98.9, 165, 102.2, 98.7, 102.9, 100]\n",
            "Jumlah semua nilai: 1170.1000000000001\n",
            "Jumlah total data: 11\n",
            "Mean: 106.37272727272729\n"
          ]
        }
      ]
    },
    {
      "cell_type": "code",
      "source": [
        "plt.hist(data, bins=30, edgecolor='black', alpha=0.5, color='blue')\n",
        "\n",
        "# Add a vertical line at the mean\n",
        "plt.axvline(x=mean_value, color='red', linestyle='dashed', linewidth=1, label=f'Mean = {mean_value:.2f}')\n",
        "\n",
        "# Add labels and title\n",
        "plt.xlabel('Value')\n",
        "plt.ylabel('Frequency')\n",
        "plt.title('Mean')\n",
        "\n",
        "# Add legend\n",
        "plt.legend()\n",
        "\n",
        "# Show the plot\n",
        "plt.show()"
      ],
      "metadata": {
        "colab": {
          "base_uri": "https://localhost:8080/",
          "height": 472
        },
        "id": "Cj2up_nhcgf8",
        "outputId": "e811b176-5c48-4a1c-a618-a1435e4830b0"
      },
      "execution_count": 24,
      "outputs": [
        {
          "output_type": "display_data",
          "data": {
            "text/plain": [
              "<Figure size 640x480 with 1 Axes>"
            ],
            "image/png": "[encoded data removed]"
          },
          "metadata": {}
        }
      ]
    },
    {
      "cell_type": "code",
      "source": [],
      "metadata": {
        "id": "R1--yL__fePh"
      },
      "execution_count": 24,
      "outputs": []
    },
    {
      "cell_type": "code",
      "source": [
        "sorted_data = sorted(data)\n",
        "print(f\"Data berurut: {sorted_data}\")\n",
        "\n",
        "# Jumlah total data dalam dataset\n",
        "n = len(sorted_data)\n",
        "print(f\"Jumlah total data: {n}\")\n",
        "\n",
        "index_tengah = n//2 # double slash // is used for floor division\n",
        "\n",
        "# Jika jumlah data genap, median adalah rata-rata dari dua nilai tengah\n",
        "if n % 2 == 0:\n",
        "    print(f\"Jumlah total data Genap\")\n",
        "    median1 = sorted_data[index_tengah]\n",
        "    median2 = sorted_data[index_tengah - 1]\n",
        "    print(f\"Nilai tengah: {median1} {median2}\")\n",
        "    median_value = (median1 + median2) / 2\n",
        "\n",
        "# Jika jumlah data ganjil, median adalah nilai tengah\n",
        "else:\n",
        "    print(f\"Jumlah total data Ganjil\")\n",
        "    median_value = sorted_data[index_tengah]\n",
        "    print(f\"Nilai tengah: {median_value}\")\n",
        "\n",
        "print(f\"Median: {median_value}\")"
      ],
      "metadata": {
        "colab": {
          "base_uri": "https://localhost:8080/"
        },
        "id": "1n8ZPMcKdcRP",
        "outputId": "58c7f0d2-57f0-4e1a-d092-2d18de32ff41"
      },
      "execution_count": 25,
      "outputs": [
        {
          "output_type": "stream",
          "name": "stdout",
          "text": [
            "Data berurut: [98.7, 98.9, 99.7, 99.9, 100, 100.5, 101, 101.3, 102.2, 102.9, 165]\n",
            "Jumlah total data: 11\n",
            "Jumlah total data Ganjil\n",
            "Nilai tengah: 100.5\n",
            "Median: 100.5\n"
          ]
        }
      ]
    },
    {
      "cell_type": "code",
      "source": [
        "\n",
        "\n",
        "# Inisialisasi dataset\n",
        "\n",
        "print(f\"Data: {data}\")\n",
        "\n",
        "counter = Counter(data)\n",
        "mode_data = dict(counter) # ubah ke tipe data dictionary\n",
        "max_counter = max(list(counter.values())) # mencari data yang memiliki counter paling banyak\n",
        "print(f\"Max Counter: {max_counter}\")\n",
        "\n",
        "mode_value = []\n",
        "for k, v in mode_data.items():\n",
        "    print(f\"{k} muncul {v} kali\")\n",
        "    if v == max(list(counter.values())):\n",
        "        mode_value.append(k)\n",
        "\n",
        "print(f\"Mode: {mode_value}\")"
      ],
      "metadata": {
        "colab": {
          "base_uri": "https://localhost:8080/"
        },
        "id": "blM3GLGedwc-",
        "outputId": "6a34fe0f-7c95-4a75-e267-6143c548a88f"
      },
      "execution_count": 26,
      "outputs": [
        {
          "output_type": "stream",
          "name": "stdout",
          "text": [
            "Data: [100.5, 99.7, 101, 101.3, 99.9, 98.9, 165, 102.2, 98.7, 102.9, 100]\n",
            "Max Counter: 1\n",
            "100.5 muncul 1 kali\n",
            "99.7 muncul 1 kali\n",
            "101 muncul 1 kali\n",
            "101.3 muncul 1 kali\n",
            "99.9 muncul 1 kali\n",
            "98.9 muncul 1 kali\n",
            "165 muncul 1 kali\n",
            "102.2 muncul 1 kali\n",
            "98.7 muncul 1 kali\n",
            "102.9 muncul 1 kali\n",
            "100 muncul 1 kali\n",
            "Mode: [100.5, 99.7, 101, 101.3, 99.9, 98.9, 165, 102.2, 98.7, 102.9, 100]\n"
          ]
        }
      ]
    },
    {
      "cell_type": "markdown",
      "source": [
        "Soal Kedua"
      ],
      "metadata": {
        "id": "_pYJ9ZiGfMfo"
      }
    },
    {
      "cell_type": "code",
      "source": [
        "data = [95, 35, 50, 65, 70, 85, 25, 100, 80, 90, 45, 40, 35, 20, 75, 50, 40, 60, 80, 75]\n",
        "print(f\"Data: {data}\")\n",
        "\n",
        "# Jumlah nilai dalam dataset\n",
        "jumlah_nilai = sum(data)\n",
        "print(f\"Jumlah semua nilai: {jumlah_nilai}\")\n",
        "\n",
        "# Jumlah total data dalam dataset\n",
        "jumlah_total_data = len(data)\n",
        "print(f\"Jumlah total data: {jumlah_total_data}\")\n",
        "\n",
        "# Jumlah semua nilai dalam dataset\n",
        "mean_value = jumlah_nilai / jumlah_total_data\n",
        "print(f\"Mean: {mean_value}\")\n",
        "\n"
      ],
      "metadata": {
        "colab": {
          "base_uri": "https://localhost:8080/"
        },
        "id": "QNgmoZuFeyG4",
        "outputId": "794fcca2-851f-45a5-eee6-315bd9548f69"
      },
      "execution_count": 27,
      "outputs": [
        {
          "output_type": "stream",
          "name": "stdout",
          "text": [
            "Data: [95, 35, 50, 65, 70, 85, 25, 100, 80, 90, 45, 40, 35, 20, 75, 50, 40, 60, 80, 75]\n",
            "Jumlah semua nilai: 1215\n",
            "Jumlah total data: 20\n",
            "Mean: 60.75\n"
          ]
        }
      ]
    },
    {
      "cell_type": "code",
      "source": [
        "plt.hist(data, bins=30, edgecolor='black', alpha=0.5, color='blue')\n",
        "\n",
        "# Add a vertical line at the mean\n",
        "plt.axvline(x=mean_value, color='red', linestyle='dashed', linewidth=1, label=f'Mean = {mean_value:.2f}')\n",
        "\n",
        "# Add labels and title\n",
        "plt.xlabel('Value')\n",
        "plt.ylabel('Frequency')\n",
        "plt.title('Mean')\n",
        "\n",
        "# Add legend\n",
        "plt.legend()\n",
        "\n",
        "# Show the plot\n",
        "plt.show()\n"
      ],
      "metadata": {
        "colab": {
          "base_uri": "https://localhost:8080/",
          "height": 472
        },
        "id": "dvU1C64hff-z",
        "outputId": "8992ef90-8133-426f-9e19-c8af5e92fd1f"
      },
      "execution_count": 28,
      "outputs": [
        {
          "output_type": "display_data",
          "data": {
            "text/plain": [
              "<Figure size 640x480 with 1 Axes>"
            ],
            "image/png": "[encoded data removed]"
          },
          "metadata": {}
        }
      ]
    },
    {
      "cell_type": "code",
      "source": [
        "sorted_data = sorted(data)\n",
        "print(f\"Data berurut: {sorted_data}\")\n",
        "\n",
        "# Jumlah total data dalam dataset\n",
        "n = len(sorted_data)\n",
        "print(f\"Jumlah total data: {n}\")\n",
        "\n",
        "index_tengah = n//2 # double slash // is used for floor division\n",
        "\n",
        "# Jika jumlah data genap, median adalah rata-rata dari dua nilai tengah\n",
        "if n % 2 == 0:\n",
        "    print(f\"Jumlah total data Genap\")\n",
        "    median1 = sorted_data[index_tengah]\n",
        "    median2 = sorted_data[index_tengah - 1]\n",
        "    print(f\"Nilai tengah: {median1} {median2}\")\n",
        "    median_value = (median1 + median2) / 2\n",
        "\n",
        "# Jika jumlah data ganjil, median adalah nilai tengah\n",
        "else:\n",
        "    print(f\"Jumlah total data Ganjil\")\n",
        "    median_value = sorted_data[index_tengah]\n",
        "    print(f\"Nilai tengah: {median_value}\")\n",
        "\n",
        "print(f\"Median: {median_value}\")\n"
      ],
      "metadata": {
        "colab": {
          "base_uri": "https://localhost:8080/"
        },
        "id": "ZA6bO9vIfnvR",
        "outputId": "7da19878-4b6e-4de5-a6f0-c87f92d9395f"
      },
      "execution_count": 29,
      "outputs": [
        {
          "output_type": "stream",
          "name": "stdout",
          "text": [
            "Data berurut: [20, 25, 35, 35, 40, 40, 45, 50, 50, 60, 65, 70, 75, 75, 80, 80, 85, 90, 95, 100]\n",
            "Jumlah total data: 20\n",
            "Jumlah total data Genap\n",
            "Nilai tengah: 65 60\n",
            "Median: 62.5\n"
          ]
        }
      ]
    },
    {
      "cell_type": "code",
      "source": [
        "# Inisialisasi dataset\n",
        "\n",
        "print(f\"Data: {data}\")\n",
        "\n",
        "counter = Counter(data)\n",
        "mode_data = dict(counter) # ubah ke tipe data dictionary\n",
        "max_counter = max(list(counter.values())) # mencari data yang memiliki counter paling banyak\n",
        "print(f\"Max Counter: {max_counter}\")\n",
        "\n",
        "mode_value = []\n",
        "for k, v in mode_data.items():\n",
        "    print(f\"{k} muncul {v} kali\")\n",
        "    if v == max(list(counter.values())):\n",
        "        mode_value.append(k)\n",
        "\n",
        "print(f\"Mode: {mode_value}\")"
      ],
      "metadata": {
        "colab": {
          "base_uri": "https://localhost:8080/"
        },
        "id": "rHXVOLoGfvAC",
        "outputId": "6f5491f8-bbe1-4ecf-ffd4-eb9020d64104"
      },
      "execution_count": 30,
      "outputs": [
        {
          "output_type": "stream",
          "name": "stdout",
          "text": [
            "Data: [95, 35, 50, 65, 70, 85, 25, 100, 80, 90, 45, 40, 35, 20, 75, 50, 40, 60, 80, 75]\n",
            "Max Counter: 2\n",
            "95 muncul 1 kali\n",
            "35 muncul 2 kali\n",
            "50 muncul 2 kali\n",
            "65 muncul 1 kali\n",
            "70 muncul 1 kali\n",
            "85 muncul 1 kali\n",
            "25 muncul 1 kali\n",
            "100 muncul 1 kali\n",
            "80 muncul 2 kali\n",
            "90 muncul 1 kali\n",
            "45 muncul 1 kali\n",
            "40 muncul 2 kali\n",
            "20 muncul 1 kali\n",
            "75 muncul 2 kali\n",
            "60 muncul 1 kali\n",
            "Mode: [35, 50, 80, 40, 75]\n"
          ]
        }
      ]
    }
  ]
}